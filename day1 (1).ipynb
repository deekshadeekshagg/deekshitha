{
 "cells": [
  {
   "cell_type": "code",
   "execution_count": 9,
   "id": "4cb9770a-7386-4cd8-be2a-284d83139f40",
   "metadata": {},
   "outputs": [
    {
     "name": "stdout",
     "output_type": "stream",
     "text": [
      "hello\n"
     ]
    }
   ],
   "source": [
    "print(\"hello\")\n"
   ]
  },
  {
   "cell_type": "code",
   "execution_count": 14,
   "id": "d04389b9-26cc-4334-9019-575195a7fddc",
   "metadata": {},
   "outputs": [
    {
     "name": "stdout",
     "output_type": "stream",
     "text": [
      "20\n"
     ]
    }
   ],
   "source": [
    "a = 20\n",
    "print(a)"
   ]
  },
  {
   "cell_type": "code",
   "execution_count": 16,
   "id": "83a51394-44f9-4758-a58a-e3104e13b9b4",
   "metadata": {},
   "outputs": [
    {
     "data": {
      "text/plain": [
       "20"
      ]
     },
     "execution_count": 16,
     "metadata": {},
     "output_type": "execute_result"
    }
   ],
   "source": [
    "a"
   ]
  },
  {
   "cell_type": "code",
   "execution_count": 18,
   "id": "d76167d6-29ed-4e21-923b-6365a443344a",
   "metadata": {},
   "outputs": [
    {
     "name": "stdout",
     "output_type": "stream",
     "text": [
      "value of a is 20\n"
     ]
    }
   ],
   "source": [
    "print(\"value of a is\",a)"
   ]
  },
  {
   "cell_type": "code",
   "execution_count": 33,
   "id": "d6d219a5-ca54-4ad0-9aaa-43d323b9e258",
   "metadata": {},
   "outputs": [
    {
     "name": "stdout",
     "output_type": "stream",
     "text": [
      "sum of 30 and 20 is 50\n"
     ]
    }
   ],
   "source": [
    "a=20\n",
    "s=30\n",
    "c=a+s\n",
    "print(\"sum of {1} and {0} is {2}\".format(a,s,c))"
   ]
  },
  {
   "cell_type": "code",
   "execution_count": null,
   "id": "aed9b159-6437-4318-b4ab-c05204bd3a1d",
   "metadata": {},
   "outputs": [],
   "source": []
  },
  {
   "cell_type": "code",
   "execution_count": 35,
   "id": "dd0218f8-01ad-4452-baa5-f2641b66793e",
   "metadata": {},
   "outputs": [
    {
     "name": "stdout",
     "output_type": "stream",
     "text": [
      "sum of 20 and 30 is 50\n"
     ]
    }
   ],
   "source": [
    "a=20\n",
    "s=30\n",
    "c=a+s\n",
    "print(\"sum of {} and {} is {}\".format(a,s,c))"
   ]
  },
  {
   "cell_type": "code",
   "execution_count": 37,
   "id": "c700212b-2f2c-4f46-af65-05d9d9e1cde5",
   "metadata": {},
   "outputs": [
    {
     "data": {
      "text/plain": [
       "int"
      ]
     },
     "execution_count": 37,
     "metadata": {},
     "output_type": "execute_result"
    }
   ],
   "source": [
    "a=34\n",
    "type(a)"
   ]
  },
  {
   "cell_type": "code",
   "execution_count": 41,
   "id": "28894dac-a18c-4a2f-bf95-e3ed16c417ed",
   "metadata": {},
   "outputs": [
    {
     "data": {
      "text/plain": [
       "float"
      ]
     },
     "execution_count": 41,
     "metadata": {},
     "output_type": "execute_result"
    }
   ],
   "source": [
    "a=90.8\n",
    "type(a)"
   ]
  },
  {
   "cell_type": "code",
   "execution_count": 43,
   "id": "81af340e-f1ee-4a25-809d-569e7842925c",
   "metadata": {},
   "outputs": [
    {
     "data": {
      "text/plain": [
       "str"
      ]
     },
     "execution_count": 43,
     "metadata": {},
     "output_type": "execute_result"
    }
   ],
   "source": [
    "a=\"qwe\"\n",
    "type(a)"
   ]
  },
  {
   "cell_type": "code",
   "execution_count": 45,
   "id": "1b245941-fdc1-4469-8cc0-86472fd772dc",
   "metadata": {},
   "outputs": [
    {
     "data": {
      "text/plain": [
       "bool"
      ]
     },
     "execution_count": 45,
     "metadata": {},
     "output_type": "execute_result"
    }
   ],
   "source": [
    "a=True\n",
    "type(a)"
   ]
  },
  {
   "cell_type": "code",
   "execution_count": 56,
   "id": "c003dcee-e839-4e53-bc01-192938fa687a",
   "metadata": {},
   "outputs": [
    {
     "data": {
      "text/plain": [
       "100"
      ]
     },
     "execution_count": 56,
     "metadata": {},
     "output_type": "execute_result"
    }
   ],
   "source": [
    "b = True+99\n",
    "b\n"
   ]
  },
  {
   "cell_type": "code",
   "execution_count": 58,
   "id": "6f990e67-8c82-437e-b6a5-36678aa62ebe",
   "metadata": {},
   "outputs": [
    {
     "data": {
      "text/plain": [
       "0"
      ]
     },
     "execution_count": 58,
     "metadata": {},
     "output_type": "execute_result"
    }
   ],
   "source": [
    "b=False*100\n",
    "b"
   ]
  },
  {
   "cell_type": "code",
   "execution_count": 64,
   "id": "2983d5f5-a62f-4e69-94b8-ce13ba567aff",
   "metadata": {},
   "outputs": [
    {
     "data": {
      "text/plain": [
       "1100.0"
      ]
     },
     "execution_count": 64,
     "metadata": {},
     "output_type": "execute_result"
    }
   ],
   "source": [
    "a=100.0\n",
    "b=1000\n",
    "a+b\n"
   ]
  },
  {
   "cell_type": "code",
   "execution_count": 69,
   "id": "94cba729-adc9-45f0-8ebc-53606bd09e16",
   "metadata": {},
   "outputs": [],
   "source": [
    "a = 100\n",
    "b = str(a)"
   ]
  },
  {
   "cell_type": "code",
   "execution_count": 71,
   "id": "a7d6661b-aadb-460c-965c-8e6e9d757366",
   "metadata": {},
   "outputs": [
    {
     "data": {
      "text/plain": [
       "100.0"
      ]
     },
     "execution_count": 71,
     "metadata": {},
     "output_type": "execute_result"
    }
   ],
   "source": [
    "float(a)"
   ]
  },
  {
   "cell_type": "code",
   "execution_count": 79,
   "id": "9a0e03ea-91bb-4ff2-b608-bd686c91e307",
   "metadata": {},
   "outputs": [
    {
     "data": {
      "text/plain": [
       "str"
      ]
     },
     "execution_count": 79,
     "metadata": {},
     "output_type": "execute_result"
    }
   ],
   "source": [
    "a=\"40\"\n",
    "type(a)"
   ]
  },
  {
   "cell_type": "code",
   "execution_count": 81,
   "id": "6027610b-1205-45ae-a6fe-844ba0fb9597",
   "metadata": {},
   "outputs": [
    {
     "data": {
      "text/plain": [
       "40"
      ]
     },
     "execution_count": 81,
     "metadata": {},
     "output_type": "execute_result"
    }
   ],
   "source": [
    "int(a)\n"
   ]
  },
  {
   "cell_type": "code",
   "execution_count": 83,
   "id": "a08533aa-b49d-41b0-8259-0150138d8e8d",
   "metadata": {},
   "outputs": [
    {
     "data": {
      "text/plain": [
       "False"
      ]
     },
     "execution_count": 83,
     "metadata": {},
     "output_type": "execute_result"
    }
   ],
   "source": [
    "20==30"
   ]
  },
  {
   "cell_type": "code",
   "execution_count": 87,
   "id": "ca90b33d-09c9-4818-ba9e-6b82d26a7e82",
   "metadata": {},
   "outputs": [
    {
     "data": {
      "text/plain": [
       "True"
      ]
     },
     "execution_count": 87,
     "metadata": {},
     "output_type": "execute_result"
    }
   ],
   "source": [
    "20!=30"
   ]
  },
  {
   "cell_type": "code",
   "execution_count": 94,
   "id": "acdcdf36-a39f-4103-a580-28757188dd85",
   "metadata": {},
   "outputs": [
    {
     "name": "stdin",
     "output_type": "stream",
     "text": [
      " 1\n"
     ]
    },
    {
     "name": "stdout",
     "output_type": "stream",
     "text": [
      "on\n"
     ]
    }
   ],
   "source": [
    "a=int(input())\n",
    "if a==1:\n",
    "     print(\"on\")\n",
    "else:\n",
    "     print(\"off\")"
   ]
  },
  {
   "cell_type": "code",
   "execution_count": 106,
   "id": "4826baba-e829-480e-889a-16f5e1026b70",
   "metadata": {},
   "outputs": [
    {
     "name": "stdin",
     "output_type": "stream",
     "text": [
      " 3\n"
     ]
    },
    {
     "name": "stdout",
     "output_type": "stream",
     "text": [
      "number is 3\n"
     ]
    }
   ],
   "source": [
    "\n",
    "a = int(input())\n",
    "if a == 1:\n",
    "    print(\"number is 1\")\n",
    "elif a == 2:\n",
    "    print(\"number is 2\")\n",
    "elif a == 3:\n",
    "    print(\"number is 3\")\n",
    "else:\n",
    "    print(\"none\")"
   ]
  },
  {
   "cell_type": "code",
   "execution_count": 132,
   "id": "d2b42856-9747-465f-b2ed-1c6a6ec9a306",
   "metadata": {},
   "outputs": [
    {
     "name": "stdin",
     "output_type": "stream",
     "text": [
      " 4500\n"
     ]
    },
    {
     "name": "stdout",
     "output_type": "stream",
     "text": [
      "amount from freind 4500\n",
      "balance amount 500\n"
     ]
    }
   ],
   "source": [
    "bill_amount=5000\n",
    "friend = int(input())\n",
    "if friend>0:\n",
    "    print(\"amount from freind\",friend)\n",
    "    if friend>=bill_amount:\n",
    "        print(\"fully paid\")\n",
    "    else:\n",
    "       balance=bill_amount-friend\n",
    "       print(\"balance amount\",balance)\n",
    "else:\n",
    "    print(\"full bill pending\")"
   ]
  },
  {
   "cell_type": "code",
   "execution_count": 174,
   "id": "6fb86db7-5d27-48e7-84e3-6d35af4dde88",
   "metadata": {},
   "outputs": [
    {
     "data": {
      "text/plain": [
       "'ncb'"
      ]
     },
     "execution_count": 174,
     "metadata": {},
     "output_type": "execute_result"
    }
   ],
   "source": [
    "a=\"national ncb\"\n",
    "len(a)\n",
    "a[9:13]"
   ]
  },
  {
   "cell_type": "code",
   "execution_count": 214,
   "id": "aef8ac05-60a3-4567-af74-dcdbe49a0083",
   "metadata": {},
   "outputs": [
    {
     "name": "stdin",
     "output_type": "stream",
     "text": [
      " \n"
     ]
    },
    {
     "name": "stdout",
     "output_type": "stream",
     "text": [
      "not open\n"
     ]
    }
   ],
   "source": [
    "vechicals=input()\n",
    "a=vechicals[0:2]\n",
    "if a == \"ka\":\n",
    "    print(\"gate open\")\n",
    "elif a == \"ta\":\n",
    "    print(\"gate open\")\n",
    "elif a == \"ap\":\n",
    "    print(\"gate open\")\n",
    "else:\n",
    "    print(\"not open\")"
   ]
  },
  {
   "cell_type": "code",
   "execution_count": 19,
   "id": "00e29ae3-693d-4ce3-86f1-5f4e949c118f",
   "metadata": {},
   "outputs": [
    {
     "data": {
      "text/plain": [
       "'HELLO'"
      ]
     },
     "execution_count": 19,
     "metadata": {},
     "output_type": "execute_result"
    }
   ],
   "source": [
    "a=\"hello\"\n",
    "a.upper()"
   ]
  },
  {
   "cell_type": "code",
   "execution_count": 9,
   "id": "40ea383d-40e1-4acb-b6d2-7ced2d9a46ca",
   "metadata": {},
   "outputs": [
    {
     "data": {
      "text/plain": [
       "'hello'"
      ]
     },
     "execution_count": 9,
     "metadata": {},
     "output_type": "execute_result"
    }
   ],
   "source": [
    "a.lower()"
   ]
  },
  {
   "cell_type": "code",
   "execution_count": 11,
   "id": "6096f1f2-335b-4d03-83a6-ae3973d8443b",
   "metadata": {},
   "outputs": [
    {
     "data": {
      "text/plain": [
       "'helo world'"
      ]
     },
     "execution_count": 11,
     "metadata": {},
     "output_type": "execute_result"
    }
   ],
   "source": [
    "a=\"helo world!\"\n",
    "a.strip(\"!\")"
   ]
  },
  {
   "cell_type": "code",
   "execution_count": 15,
   "id": "b1e16355-2ed7-4518-9d90-fcbec226f56f",
   "metadata": {},
   "outputs": [
    {
     "data": {
      "text/plain": [
       "'hello world!'"
      ]
     },
     "execution_count": 15,
     "metadata": {},
     "output_type": "execute_result"
    }
   ],
   "source": [
    "a.replace(\"helo\",\"hello\")"
   ]
  },
  {
   "cell_type": "code",
   "execution_count": null,
   "id": "7ac9dd86-51a7-43e4-af58-f7d2b2c0207f",
   "metadata": {},
   "outputs": [],
   "source": [
    "# And,Or,Not"
   ]
  },
  {
   "cell_type": "code",
   "execution_count": 39,
   "id": "4c752789-157b-4a1d-ab54-a1f757399561",
   "metadata": {},
   "outputs": [
    {
     "data": {
      "text/plain": [
       "False"
      ]
     },
     "execution_count": 39,
     "metadata": {},
     "output_type": "execute_result"
    }
   ],
   "source": [
    "x=20 \n",
    "x>10 and x>40"
   ]
  },
  {
   "cell_type": "code",
   "execution_count": 31,
   "id": "81aa242f-5a50-49f9-8fe0-09a50e2c0b48",
   "metadata": {},
   "outputs": [
    {
     "data": {
      "text/plain": [
       "True"
      ]
     },
     "execution_count": 31,
     "metadata": {},
     "output_type": "execute_result"
    }
   ],
   "source": [
    "x=40\n",
    "x>10 and x>10"
   ]
  },
  {
   "cell_type": "code",
   "execution_count": 47,
   "id": "b1772974-433b-4820-aad2-8ab50aae2b67",
   "metadata": {},
   "outputs": [
    {
     "name": "stdout",
     "output_type": "stream",
     "text": [
      "covid -ve\n"
     ]
    }
   ],
   "source": [
    "f=True\n",
    "b=True\n",
    "if f==True and b==True:\n",
    "   print(\"covid +ve\")\n",
    "else:\n",
    "    print(\"covid -ve\")\n"
   ]
  },
  {
   "cell_type": "code",
   "execution_count": 53,
   "id": "87097f9c-43c1-4391-bc39-3f30b7c07171",
   "metadata": {},
   "outputs": [
    {
     "name": "stdin",
     "output_type": "stream",
     "text": [
      "enter salary 60000\n",
      "enter land 4\n"
     ]
    },
    {
     "name": "stdout",
     "output_type": "stream",
     "text": [
      "loan approve\n"
     ]
    }
   ],
   "source": [
    "salary=int(input(\"enter salary\"))\n",
    "land=int(input(\"enter land\"))\n",
    "if salary>=50000 or land>=5:\n",
    "    print(\"loan approve\")\n",
    "else:\n",
    "    print(\"not eligible\")"
   ]
  },
  {
   "cell_type": "code",
   "execution_count": 59,
   "id": "65ad580a-4411-4fb0-93b4-376ae5766947",
   "metadata": {},
   "outputs": [
    {
     "name": "stdout",
     "output_type": "stream",
     "text": [
      "True\n"
     ]
    }
   ],
   "source": [
    "s=\"hello\"\n",
    "print(\"h\" in s)"
   ]
  },
  {
   "cell_type": "code",
   "execution_count": 65,
   "id": "4f566961-a09f-4586-ab44-ffa3d49da955",
   "metadata": {},
   "outputs": [
    {
     "name": "stdout",
     "output_type": "stream",
     "text": [
      "True\n"
     ]
    }
   ],
   "source": [
    "print(\"H\" not in s)"
   ]
  },
  {
   "cell_type": "code",
   "execution_count": 67,
   "id": "a0d30aa2-2c34-497a-8b0b-eca31af12594",
   "metadata": {},
   "outputs": [
    {
     "name": "stdout",
     "output_type": "stream",
     "text": [
      "h\n",
      "e\n",
      "l\n",
      "l\n",
      "o\n"
     ]
    }
   ],
   "source": [
    "for i in s:\n",
    "    print(i)"
   ]
  },
  {
   "cell_type": "code",
   "execution_count": 86,
   "id": "0bb43a39-dc24-48a6-8803-9d54b1f3f7f1",
   "metadata": {},
   "outputs": [
    {
     "name": "stdout",
     "output_type": "stream",
     "text": [
      "0\n",
      "2\n",
      "4\n",
      "6\n",
      "8\n",
      "10\n"
     ]
    }
   ],
   "source": [
    "for i in range(0,11,2):\n",
    "    print(i)"
   ]
  },
  {
   "cell_type": "code",
   "execution_count": 102,
   "id": "9c36f54a-9f4d-4b2b-8656-e525ded7e172",
   "metadata": {},
   "outputs": [
    {
     "name": "stdin",
     "output_type": "stream",
     "text": [
      "enter a number 4\n"
     ]
    },
    {
     "name": "stdout",
     "output_type": "stream",
     "text": [
      "sum of 4 is 1\n",
      "sum of 4 is 3\n",
      "sum of 4 is 6\n",
      "sum of 4 is 10\n"
     ]
    }
   ],
   "source": [
    "n=int(input(\"enter a number\"))\n",
    "sum=0\n",
    "i=1\n",
    "while i<=n:\n",
    "    sum=sum+i\n",
    "    i=i+1\n",
    "    print(\"sum of {} is {}\".format(n,sum))"
   ]
  },
  {
   "cell_type": "code",
   "execution_count": 140,
   "id": "b4d31838-c327-4fd4-b178-a4694cdfb2ea",
   "metadata": {},
   "outputs": [
    {
     "name": "stdin",
     "output_type": "stream",
     "text": [
      "enter paswwered f\n",
      "try again k\n",
      "try again l\n"
     ]
    },
    {
     "name": "stdout",
     "output_type": "stream",
     "text": [
      "paswwered lock  \n"
     ]
    }
   ],
   "source": [
    "n=input(\"enter paswwered\")\n",
    "p=\"deksh\"\n",
    "count=1\n",
    "while(count<3) and (n!=p):\n",
    "    count=count+1\n",
    "    n=input(\"try again\")\n",
    "if n==p:\n",
    "       print(\"paswwered correct\")\n",
    "else:\n",
    "       print(\"paswwered lock  \")"
   ]
  },
  {
   "cell_type": "code",
   "execution_count": 192,
   "id": "86af3d6b-0ca1-4370-9479-a0f4f9369ae5",
   "metadata": {},
   "outputs": [
    {
     "data": {
      "text/plain": [
       "['a', 'b']"
      ]
     },
     "execution_count": 192,
     "metadata": {},
     "output_type": "execute_result"
    }
   ],
   "source": [
    "li=[\"a\",\"b\",\"c\",\"d\"]\n",
    "# type[li]\n",
    "li[0:2]\n",
    "\n",
    "\n"
   ]
  },
  {
   "cell_type": "code",
   "execution_count": 194,
   "id": "51fe8fdd-6609-4223-8297-f1d3f21c950d",
   "metadata": {},
   "outputs": [
    {
     "data": {
      "text/plain": [
       "['a', 'b', 'c', 'd', 'e']"
      ]
     },
     "execution_count": 194,
     "metadata": {},
     "output_type": "execute_result"
    }
   ],
   "source": [
    "li.append(\"e\")\n",
    "li"
   ]
  },
  {
   "cell_type": "code",
   "execution_count": 202,
   "id": "e0585722-0b10-4093-b138-2e34f843bf0d",
   "metadata": {},
   "outputs": [
    {
     "data": {
      "text/plain": [
       "['a', 'A', '2', 'b', 'c', 'd', 'e', 'j', 'k', 'l']"
      ]
     },
     "execution_count": 202,
     "metadata": {},
     "output_type": "execute_result"
    }
   ],
   "source": [
    "li.insert(1,\"A\")\n",
    "li"
   ]
  },
  {
   "cell_type": "code",
   "execution_count": 204,
   "id": "082a0851-dcb4-443a-b720-2792e8d5a423",
   "metadata": {},
   "outputs": [
    {
     "data": {
      "text/plain": [
       "['a', 'A', '2', 'b', 'c', 'd', 'e', 'j', 'k', 'l', 'j', 'k', 'l']"
      ]
     },
     "execution_count": 204,
     "metadata": {},
     "output_type": "execute_result"
    }
   ],
   "source": [
    "l2=[\"j\",\"k\",\"l\"]\n",
    "li.extend(l2)\n",
    "li"
   ]
  },
  {
   "cell_type": "code",
   "execution_count": 206,
   "id": "857b3cf0-1fb4-4192-9252-4b834ba867d2",
   "metadata": {},
   "outputs": [
    {
     "data": {
      "text/plain": [
       "['a', 'A', 'b', 'c', 'd', 'e', 'j', 'k', 'l', 'j', 'k', 'l']"
      ]
     },
     "execution_count": 206,
     "metadata": {},
     "output_type": "execute_result"
    }
   ],
   "source": [
    "li.remove(\"2\")\n",
    "li"
   ]
  },
  {
   "cell_type": "code",
   "execution_count": 208,
   "id": "e7a54730-b54c-4c7b-9e8b-f5e162949f03",
   "metadata": {},
   "outputs": [
    {
     "data": {
      "text/plain": [
       "[]"
      ]
     },
     "execution_count": 208,
     "metadata": {},
     "output_type": "execute_result"
    }
   ],
   "source": [
    "li.clear()\n",
    "li"
   ]
  },
  {
   "cell_type": "code",
   "execution_count": 222,
   "id": "0f02b64e-19dc-40be-b5ab-41a0b7b46e35",
   "metadata": {},
   "outputs": [
    {
     "name": "stdout",
     "output_type": "stream",
     "text": [
      "[3, 0, 6, 7, 4, 5]\n"
     ]
    }
   ],
   "source": [
    "list1 = [1,2,4,5,6,7]\n",
    "result = []\n",
    "for i in list1:\n",
    "    result.append(i*2)\n",
    "print(result)"
   ]
  },
  {
   "cell_type": "code",
   "execution_count": 232,
   "id": "8abf9683-7426-4c37-88bc-44e9d9d7e758",
   "metadata": {},
   "outputs": [
    {
     "name": "stdout",
     "output_type": "stream",
     "text": [
      "[1, 4, 16, 25, 36, 49]\n"
     ]
    }
   ],
   "source": [
    "list1 = [1,2,4,5,6,7]\n",
    "result1=[x**2 for x in list1]\n",
    "print(result1)"
   ]
  },
  {
   "cell_type": "code",
   "execution_count": null,
   "id": "11142f48-023c-46f1-a0ce-1046d06baab0",
   "metadata": {},
   "outputs": [],
   "source": []
  }
 ],
 "metadata": {
  "kernelspec": {
   "display_name": "Python 3 (ipykernel)",
   "language": "python",
   "name": "python3"
  },
  "language_info": {
   "codemirror_mode": {
    "name": "ipython",
    "version": 3
   },
   "file_extension": ".py",
   "mimetype": "text/x-python",
   "name": "python",
   "nbconvert_exporter": "python",
   "pygments_lexer": "ipython3",
   "version": "3.12.4"
  }
 },
 "nbformat": 4,
 "nbformat_minor": 5
}
